{
  "nbformat": 4,
  "nbformat_minor": 0,
  "metadata": {
    "colab": {
      "provenance": [],
      "collapsed_sections": [
        "A2YW1svvqjvG"
      ]
    },
    "kernelspec": {
      "name": "python3",
      "display_name": "Python 3"
    },
    "language_info": {
      "name": "python"
    }
  },
  "cells": [
    {
      "cell_type": "markdown",
      "source": [
        "# Imports"
      ],
      "metadata": {
        "id": "3H96kPkzqf0B"
      }
    },
    {
      "cell_type": "code",
      "source": [
        "!pip install ale-py\n",
        "!pip install gymnasium"
      ],
      "metadata": {
        "id": "9dU_Oy9lqnQa",
        "colab": {
          "base_uri": "https://localhost:8080/"
        },
        "outputId": "6fd96563-e56d-4db8-a6ce-bf6550eefaa8"
      },
      "execution_count": null,
      "outputs": [
        {
          "output_type": "stream",
          "name": "stdout",
          "text": [
            "Collecting ale-py\n",
            "  Downloading ale_py-0.10.1-cp310-cp310-manylinux_2_17_x86_64.manylinux2014_x86_64.whl.metadata (7.6 kB)\n",
            "Requirement already satisfied: numpy>1.20 in /usr/local/lib/python3.10/dist-packages (from ale-py) (1.26.4)\n",
            "Requirement already satisfied: typing-extensions in /usr/local/lib/python3.10/dist-packages (from ale-py) (4.12.2)\n",
            "Downloading ale_py-0.10.1-cp310-cp310-manylinux_2_17_x86_64.manylinux2014_x86_64.whl (2.1 MB)\n",
            "\u001b[2K   \u001b[90m━━━━━━━━━━━━━━━━━━━━━━━━━━━━━━━━━━━━━━━━\u001b[0m \u001b[32m2.1/2.1 MB\u001b[0m \u001b[31m12.5 MB/s\u001b[0m eta \u001b[36m0:00:00\u001b[0m\n",
            "\u001b[?25hInstalling collected packages: ale-py\n",
            "Successfully installed ale-py-0.10.1\n",
            "Collecting gymnasium\n",
            "  Downloading gymnasium-1.0.0-py3-none-any.whl.metadata (9.5 kB)\n",
            "Requirement already satisfied: numpy>=1.21.0 in /usr/local/lib/python3.10/dist-packages (from gymnasium) (1.26.4)\n",
            "Requirement already satisfied: cloudpickle>=1.2.0 in /usr/local/lib/python3.10/dist-packages (from gymnasium) (3.1.0)\n",
            "Requirement already satisfied: typing-extensions>=4.3.0 in /usr/local/lib/python3.10/dist-packages (from gymnasium) (4.12.2)\n",
            "Collecting farama-notifications>=0.0.1 (from gymnasium)\n",
            "  Downloading Farama_Notifications-0.0.4-py3-none-any.whl.metadata (558 bytes)\n",
            "Downloading gymnasium-1.0.0-py3-none-any.whl (958 kB)\n",
            "\u001b[2K   \u001b[90m━━━━━━━━━━━━━━━━━━━━━━━━━━━━━━━━━━━━━━━━\u001b[0m \u001b[32m958.1/958.1 kB\u001b[0m \u001b[31m8.9 MB/s\u001b[0m eta \u001b[36m0:00:00\u001b[0m\n",
            "\u001b[?25hDownloading Farama_Notifications-0.0.4-py3-none-any.whl (2.5 kB)\n",
            "Installing collected packages: farama-notifications, gymnasium\n",
            "Successfully installed farama-notifications-0.0.4 gymnasium-1.0.0\n"
          ]
        }
      ]
    },
    {
      "cell_type": "code",
      "source": [
        "import gymnasium as gym\n",
        "import ale_py\n",
        "import numpy as np\n",
        "import matplotlib.pyplot as plt"
      ],
      "metadata": {
        "id": "7VbB9_hdqhkw"
      },
      "execution_count": null,
      "outputs": []
    },
    {
      "cell_type": "markdown",
      "source": [
        "# Partie 1: Frozen Lake"
      ],
      "metadata": {
        "id": "A2YW1svvqjvG"
      }
    },
    {
      "cell_type": "markdown",
      "source": [
        "Nous allons commencer notre TP avec un environnement type grille: le [Frozen Lake](https://gymnasium.farama.org/environments/toy_text/frozen_lake). Cela vous aidera également à vous familiariser avec l'API Gym, largement utilisée de le monde du RL.\n",
        "\n",
        "Commencez par lire la [documentation](https://gymnasium.farama.org/environments/toy_text/frozen_lake) de l'environnement Frozen Lake."
      ],
      "metadata": {
        "id": "tOQWOl2XweTt"
      }
    },
    {
      "cell_type": "markdown",
      "source": [
        "## Print utils"
      ],
      "metadata": {
        "id": "6IgXHaBg4p-N"
      }
    },
    {
      "cell_type": "code",
      "source": [
        "def int_action_to_str(int_action):\n",
        "    if int_action == 0:\n",
        "        return \"left\"\n",
        "    if int_action == 1:\n",
        "        return \"down\"\n",
        "    if int_action == 2:\n",
        "        return \"right\"\n",
        "    else:\n",
        "      return \"up\""
      ],
      "metadata": {
        "id": "yRonTcLQ4scp"
      },
      "execution_count": null,
      "outputs": []
    },
    {
      "cell_type": "code",
      "source": [
        "def print_values(values, grid_width):\n",
        "    for i in range(int(len(values)/grid_width)):\n",
        "        print(values[i*grid_width:(i+1)*grid_width])\n",
        "\n",
        "def print_policy(policy, grid_width):\n",
        "    for i in range(int(len(policy)/grid_width)):\n",
        "        print([int_action_to_str(_a) for _a in policy[i*grid_width:(i+1)*grid_width]])"
      ],
      "metadata": {
        "id": "gx6ZY5XS3bpU"
      },
      "execution_count": null,
      "outputs": []
    },
    {
      "cell_type": "code",
      "source": [
        "def print_q_values(q_values, grid_width):\n",
        "    for i in range(int(len(q_values)/grid_width)):\n",
        "        _q_values_to_print = []\n",
        "        for _q_values in q_values[i*grid_width:(i+1)*grid_width]:\n",
        "            _q_values_to_print.append({int_action_to_str(_k): _v for _k, _v in enumerate(_q_values)})\n",
        "        print(_q_values_to_print)"
      ],
      "metadata": {
        "id": "L46vWeKZ5j0K"
      },
      "execution_count": null,
      "outputs": []
    },
    {
      "cell_type": "markdown",
      "source": [
        "## A) Version déterministe"
      ],
      "metadata": {
        "id": "Qu_jZtNFw5FS"
      }
    },
    {
      "cell_type": "markdown",
      "source": [
        "Créons une première instance de l'environnement avec une carte spécifique:"
      ],
      "metadata": {
        "id": "LZV144o4ynmt"
      }
    },
    {
      "cell_type": "code",
      "source": [
        "env = gym.make('FrozenLake-v1', desc=[\"SFFF\", \"FHFH\", \"FFFH\", \"HFFG\"], is_slippery=False, render_mode=\"rgb_array\")"
      ],
      "metadata": {
        "id": "wTqEgIM_vPn1"
      },
      "execution_count": null,
      "outputs": []
    },
    {
      "cell_type": "markdown",
      "source": [
        "Il est nécessaire de reset l'environnement pour lancer un épisode:"
      ],
      "metadata": {
        "id": "3zpIjUdRyt1F"
      }
    },
    {
      "cell_type": "code",
      "source": [
        "observation, info = env.reset()"
      ],
      "metadata": {
        "id": "FffA5N7WvNaU"
      },
      "execution_count": null,
      "outputs": []
    },
    {
      "cell_type": "code",
      "source": [
        "env.render()"
      ],
      "metadata": {
        "id": "BhUo2TnTvaVV",
        "colab": {
          "base_uri": "https://localhost:8080/",
          "height": 296
        },
        "outputId": "3ae51d03-79fa-458a-8594-e4f46933b925"
      },
      "execution_count": null,
      "outputs": [
        {
          "output_type": "execute_result",
          "data": {
            "text/plain": [
              "array([[[180, 200, 230],\n",
              "        [180, 200, 230],\n",
              "        [180, 200, 230],\n",
              "        ...,\n",
              "        [180, 200, 230],\n",
              "        [180, 200, 230],\n",
              "        [180, 200, 230]],\n",
              "\n",
              "       [[180, 200, 230],\n",
              "        [204, 230, 255],\n",
              "        [204, 230, 255],\n",
              "        ...,\n",
              "        [204, 230, 255],\n",
              "        [204, 230, 255],\n",
              "        [180, 200, 230]],\n",
              "\n",
              "       [[180, 200, 230],\n",
              "        [235, 245, 249],\n",
              "        [204, 230, 255],\n",
              "        ...,\n",
              "        [204, 230, 255],\n",
              "        [204, 230, 255],\n",
              "        [180, 200, 230]],\n",
              "\n",
              "       ...,\n",
              "\n",
              "       [[180, 200, 230],\n",
              "        [235, 245, 249],\n",
              "        [235, 245, 249],\n",
              "        ...,\n",
              "        [204, 230, 255],\n",
              "        [235, 245, 249],\n",
              "        [180, 200, 230]],\n",
              "\n",
              "       [[180, 200, 230],\n",
              "        [235, 245, 249],\n",
              "        [235, 245, 249],\n",
              "        ...,\n",
              "        [204, 230, 255],\n",
              "        [204, 230, 255],\n",
              "        [180, 200, 230]],\n",
              "\n",
              "       [[180, 200, 230],\n",
              "        [180, 200, 230],\n",
              "        [180, 200, 230],\n",
              "        ...,\n",
              "        [180, 200, 230],\n",
              "        [180, 200, 230],\n",
              "        [180, 200, 230]]], dtype=uint8)"
            ],
            "text/html": [
              "<style>\n",
              "      .ndarray_repr .ndarray_raw_data {\n",
              "        display: none;\n",
              "      }\n",
              "      .ndarray_repr.show_array .ndarray_raw_data {\n",
              "        display: block;\n",
              "      }\n",
              "      .ndarray_repr.show_array .ndarray_image_preview {\n",
              "        display: none;\n",
              "      }\n",
              "      </style>\n",
              "      <div id=\"id-7ac7b2d9-5cde-4631-a7e9-629397ca105c\" class=\"ndarray_repr\"><pre>ndarray (256, 256, 3) <button style=\"padding: 0 2px;\">show data</button></pre><img src=\"data:image/png;base64,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\" class=\"ndarray_image_preview\" /><pre class=\"ndarray_raw_data\">array([[[180, 200, 230],\n",
              "        [180, 200, 230],\n",
              "        [180, 200, 230],\n",
              "        ...,\n",
              "        [180, 200, 230],\n",
              "        [180, 200, 230],\n",
              "        [180, 200, 230]],\n",
              "\n",
              "       [[180, 200, 230],\n",
              "        [204, 230, 255],\n",
              "        [204, 230, 255],\n",
              "        ...,\n",
              "        [204, 230, 255],\n",
              "        [204, 230, 255],\n",
              "        [180, 200, 230]],\n",
              "\n",
              "       [[180, 200, 230],\n",
              "        [235, 245, 249],\n",
              "        [204, 230, 255],\n",
              "        ...,\n",
              "        [204, 230, 255],\n",
              "        [204, 230, 255],\n",
              "        [180, 200, 230]],\n",
              "\n",
              "       ...,\n",
              "\n",
              "       [[180, 200, 230],\n",
              "        [235, 245, 249],\n",
              "        [235, 245, 249],\n",
              "        ...,\n",
              "        [204, 230, 255],\n",
              "        [235, 245, 249],\n",
              "        [180, 200, 230]],\n",
              "\n",
              "       [[180, 200, 230],\n",
              "        [235, 245, 249],\n",
              "        [235, 245, 249],\n",
              "        ...,\n",
              "        [204, 230, 255],\n",
              "        [204, 230, 255],\n",
              "        [180, 200, 230]],\n",
              "\n",
              "       [[180, 200, 230],\n",
              "        [180, 200, 230],\n",
              "        [180, 200, 230],\n",
              "        ...,\n",
              "        [180, 200, 230],\n",
              "        [180, 200, 230],\n",
              "        [180, 200, 230]]], dtype=uint8)</pre></div><script>\n",
              "      (() => {\n",
              "      const titles = ['show data', 'hide data'];\n",
              "      let index = 0\n",
              "      document.querySelector('#id-7ac7b2d9-5cde-4631-a7e9-629397ca105c button').onclick = (e) => {\n",
              "        document.querySelector('#id-7ac7b2d9-5cde-4631-a7e9-629397ca105c').classList.toggle('show_array');\n",
              "        index = (++index) % 2;\n",
              "        document.querySelector('#id-7ac7b2d9-5cde-4631-a7e9-629397ca105c button').textContent = titles[index];\n",
              "        e.preventDefault();\n",
              "        e.stopPropagation();\n",
              "      }\n",
              "      })();\n",
              "    </script>"
            ]
          },
          "metadata": {},
          "execution_count": 16
        }
      ]
    },
    {
      "cell_type": "markdown",
      "source": [
        "Regardez la fonction de transition:"
      ],
      "metadata": {
        "id": "2cYGke80yzjr"
      }
    },
    {
      "cell_type": "code",
      "source": [
        "def print_transition_function(env, state, action, ):\n",
        "    print(f\"From state {state} when playing action {action}:\")\n",
        "    for next_state_transition in env.unwrapped.P[state][action]:\n",
        "        print(f\"- Reaching state {next_state_transition[1]} along with reward {next_state_transition[2]} with probability {next_state_transition[0]}\")"
      ],
      "metadata": {
        "id": "NDjtbUgAw_ns"
      },
      "execution_count": null,
      "outputs": []
    },
    {
      "cell_type": "code",
      "source": [
        "# State: initial\n",
        "# Action: right\n",
        "print_transition_function(env, state=0, action=2)"
      ],
      "metadata": {
        "id": "_mV1Xav4w24l",
        "colab": {
          "base_uri": "https://localhost:8080/"
        },
        "outputId": "f3b4ab90-d8f0-4d49-f736-7bb6d89a8c50"
      },
      "execution_count": null,
      "outputs": [
        {
          "output_type": "stream",
          "name": "stdout",
          "text": [
            "From state 0 when playing action 2:\n",
            "- Reaching state 1 along with reward 0.0 with probability 1.0\n"
          ]
        }
      ]
    },
    {
      "cell_type": "code",
      "source": [
        "# State: cell 4 (next ot a hole)\n",
        "# Action: right\n",
        "print_transition_function(env, state=4, action=2)"
      ],
      "metadata": {
        "id": "tUz6TL6bzBmy",
        "colab": {
          "base_uri": "https://localhost:8080/"
        },
        "outputId": "86a7b9df-2e4b-4dce-b649-3c351a845fba"
      },
      "execution_count": null,
      "outputs": [
        {
          "output_type": "stream",
          "name": "stdout",
          "text": [
            "From state 4 when playing action 2:\n",
            "- Reaching state 5 along with reward 0.0 with probability 1.0\n"
          ]
        }
      ]
    },
    {
      "cell_type": "code",
      "source": [
        "# State: cell 14 (next to the goal)\n",
        "# Action: right\n",
        "print_transition_function(env, state=14, action=2)"
      ],
      "metadata": {
        "id": "01NvxPuNznHM",
        "colab": {
          "base_uri": "https://localhost:8080/"
        },
        "outputId": "06efe21f-f385-4745-8727-1669220ad453"
      },
      "execution_count": null,
      "outputs": [
        {
          "output_type": "stream",
          "name": "stdout",
          "text": [
            "From state 14 when playing action 2:\n",
            "- Reaching state 15 along with reward 1.0 with probability 1.0\n"
          ]
        }
      ]
    },
    {
      "cell_type": "markdown",
      "source": [
        "Codez désormais une stratégie permettant de résoudre le maze:"
      ],
      "metadata": {
        "id": "CPAwykBF0PSJ"
      }
    },
    {
      "cell_type": "code",
      "source": [
        "observation, info = env.reset()\n",
        "done, truncated = False, False\n",
        "reward = 0\n",
        "while not (done or truncated):\n",
        "    if observation in [0, 4, 10]:\n",
        "        action = 1\n",
        "    else:\n",
        "        action = 2\n",
        "    observation, reward, done, truncated, info = env.step(action)\n",
        "\n",
        "assert reward == 1"
      ],
      "metadata": {
        "id": "zZVkOQvA0Uvk"
      },
      "execution_count": null,
      "outputs": []
    },
    {
      "cell_type": "markdown",
      "source": [
        "Testez à nouveau votre stratégie avec cette nouvelle carte. Que fait-elle ?"
      ],
      "metadata": {
        "id": "hmO-4tyZ11aU"
      }
    },
    {
      "cell_type": "code",
      "source": [
        "env = gym.make('FrozenLake-v1', desc=[\"SHFF\", \"FHFH\", \"FFHF\", \"FFFG\"], is_slippery=False, render_mode=\"rgb_array\")\n",
        "observation, info = env.reset()\n",
        "env.render()\n",
        "# done, truncated = False, False\n",
        "# reward = 0\n",
        "# while not (done or truncated):\n",
        "#     action = <your code>\n",
        "#     observation, reward, done, truncated, info = env.step(action)\n",
        "\n",
        "# assert reward == 1"
      ],
      "metadata": {
        "id": "Kk0iWZsb1fku",
        "colab": {
          "base_uri": "https://localhost:8080/",
          "height": 296
        },
        "outputId": "08d9229d-8bd8-45d0-827e-3c6d9c1b2f99"
      },
      "execution_count": null,
      "outputs": [
        {
          "output_type": "execute_result",
          "data": {
            "text/plain": [
              "array([[[180, 200, 230],\n",
              "        [180, 200, 230],\n",
              "        [180, 200, 230],\n",
              "        ...,\n",
              "        [180, 200, 230],\n",
              "        [180, 200, 230],\n",
              "        [180, 200, 230]],\n",
              "\n",
              "       [[180, 200, 230],\n",
              "        [204, 230, 255],\n",
              "        [204, 230, 255],\n",
              "        ...,\n",
              "        [204, 230, 255],\n",
              "        [204, 230, 255],\n",
              "        [180, 200, 230]],\n",
              "\n",
              "       [[180, 200, 230],\n",
              "        [235, 245, 249],\n",
              "        [204, 230, 255],\n",
              "        ...,\n",
              "        [204, 230, 255],\n",
              "        [204, 230, 255],\n",
              "        [180, 200, 230]],\n",
              "\n",
              "       ...,\n",
              "\n",
              "       [[180, 200, 230],\n",
              "        [235, 245, 249],\n",
              "        [235, 245, 249],\n",
              "        ...,\n",
              "        [204, 230, 255],\n",
              "        [235, 245, 249],\n",
              "        [180, 200, 230]],\n",
              "\n",
              "       [[180, 200, 230],\n",
              "        [235, 245, 249],\n",
              "        [235, 245, 249],\n",
              "        ...,\n",
              "        [204, 230, 255],\n",
              "        [204, 230, 255],\n",
              "        [180, 200, 230]],\n",
              "\n",
              "       [[180, 200, 230],\n",
              "        [180, 200, 230],\n",
              "        [180, 200, 230],\n",
              "        ...,\n",
              "        [180, 200, 230],\n",
              "        [180, 200, 230],\n",
              "        [180, 200, 230]]], dtype=uint8)"
            ],
            "text/html": [
              "<style>\n",
              "      .ndarray_repr .ndarray_raw_data {\n",
              "        display: none;\n",
              "      }\n",
              "      .ndarray_repr.show_array .ndarray_raw_data {\n",
              "        display: block;\n",
              "      }\n",
              "      .ndarray_repr.show_array .ndarray_image_preview {\n",
              "        display: none;\n",
              "      }\n",
              "      </style>\n",
              "      <div id=\"id-f6e2f6a8-1c75-4094-9776-f85c8b3d4365\" class=\"ndarray_repr\"><pre>ndarray (256, 256, 3) <button style=\"padding: 0 2px;\">show data</button></pre><img src=\"data:image/png;base64,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\" class=\"ndarray_image_preview\" /><pre class=\"ndarray_raw_data\">array([[[180, 200, 230],\n",
              "        [180, 200, 230],\n",
              "        [180, 200, 230],\n",
              "        ...,\n",
              "        [180, 200, 230],\n",
              "        [180, 200, 230],\n",
              "        [180, 200, 230]],\n",
              "\n",
              "       [[180, 200, 230],\n",
              "        [204, 230, 255],\n",
              "        [204, 230, 255],\n",
              "        ...,\n",
              "        [204, 230, 255],\n",
              "        [204, 230, 255],\n",
              "        [180, 200, 230]],\n",
              "\n",
              "       [[180, 200, 230],\n",
              "        [235, 245, 249],\n",
              "        [204, 230, 255],\n",
              "        ...,\n",
              "        [204, 230, 255],\n",
              "        [204, 230, 255],\n",
              "        [180, 200, 230]],\n",
              "\n",
              "       ...,\n",
              "\n",
              "       [[180, 200, 230],\n",
              "        [235, 245, 249],\n",
              "        [235, 245, 249],\n",
              "        ...,\n",
              "        [204, 230, 255],\n",
              "        [235, 245, 249],\n",
              "        [180, 200, 230]],\n",
              "\n",
              "       [[180, 200, 230],\n",
              "        [235, 245, 249],\n",
              "        [235, 245, 249],\n",
              "        ...,\n",
              "        [204, 230, 255],\n",
              "        [204, 230, 255],\n",
              "        [180, 200, 230]],\n",
              "\n",
              "       [[180, 200, 230],\n",
              "        [180, 200, 230],\n",
              "        [180, 200, 230],\n",
              "        ...,\n",
              "        [180, 200, 230],\n",
              "        [180, 200, 230],\n",
              "        [180, 200, 230]]], dtype=uint8)</pre></div><script>\n",
              "      (() => {\n",
              "      const titles = ['show data', 'hide data'];\n",
              "      let index = 0\n",
              "      document.querySelector('#id-f6e2f6a8-1c75-4094-9776-f85c8b3d4365 button').onclick = (e) => {\n",
              "        document.querySelector('#id-f6e2f6a8-1c75-4094-9776-f85c8b3d4365').classList.toggle('show_array');\n",
              "        index = (++index) % 2;\n",
              "        document.querySelector('#id-f6e2f6a8-1c75-4094-9776-f85c8b3d4365 button').textContent = titles[index];\n",
              "        e.preventDefault();\n",
              "        e.stopPropagation();\n",
              "      }\n",
              "      })();\n",
              "    </script>"
            ]
          },
          "metadata": {},
          "execution_count": 23
        }
      ]
    },
    {
      "cell_type": "markdown",
      "source": [
        "## B) Version stochastique"
      ],
      "metadata": {
        "id": "FaxHKJz23WiN"
      }
    },
    {
      "cell_type": "markdown",
      "source": [
        "Passons maintenant à une verison sotchastique où notre agent peut \"glisser\"."
      ],
      "metadata": {
        "id": "t3wORcs-3ohn"
      }
    },
    {
      "cell_type": "code",
      "source": [
        "env = gym.make('FrozenLake-v1', desc=[\"SFFF\", \"FHFH\", \"FFFH\", \"HFFG\"], is_slippery=True, render_mode=\"rgb_array\")"
      ],
      "metadata": {
        "id": "A1jI-f_Q2Srq"
      },
      "execution_count": null,
      "outputs": []
    },
    {
      "cell_type": "code",
      "source": [
        "observation, info = env.reset()\n",
        "env.render()"
      ],
      "metadata": {
        "id": "5xyL4WDm3tyS",
        "colab": {
          "base_uri": "https://localhost:8080/",
          "height": 296
        },
        "outputId": "fcfe84e2-3f66-49b3-b453-06b59a1221ec"
      },
      "execution_count": null,
      "outputs": [
        {
          "output_type": "execute_result",
          "data": {
            "text/plain": [
              "array([[[180, 200, 230],\n",
              "        [180, 200, 230],\n",
              "        [180, 200, 230],\n",
              "        ...,\n",
              "        [180, 200, 230],\n",
              "        [180, 200, 230],\n",
              "        [180, 200, 230]],\n",
              "\n",
              "       [[180, 200, 230],\n",
              "        [204, 230, 255],\n",
              "        [204, 230, 255],\n",
              "        ...,\n",
              "        [204, 230, 255],\n",
              "        [204, 230, 255],\n",
              "        [180, 200, 230]],\n",
              "\n",
              "       [[180, 200, 230],\n",
              "        [235, 245, 249],\n",
              "        [204, 230, 255],\n",
              "        ...,\n",
              "        [204, 230, 255],\n",
              "        [204, 230, 255],\n",
              "        [180, 200, 230]],\n",
              "\n",
              "       ...,\n",
              "\n",
              "       [[180, 200, 230],\n",
              "        [235, 245, 249],\n",
              "        [235, 245, 249],\n",
              "        ...,\n",
              "        [204, 230, 255],\n",
              "        [235, 245, 249],\n",
              "        [180, 200, 230]],\n",
              "\n",
              "       [[180, 200, 230],\n",
              "        [235, 245, 249],\n",
              "        [235, 245, 249],\n",
              "        ...,\n",
              "        [204, 230, 255],\n",
              "        [204, 230, 255],\n",
              "        [180, 200, 230]],\n",
              "\n",
              "       [[180, 200, 230],\n",
              "        [180, 200, 230],\n",
              "        [180, 200, 230],\n",
              "        ...,\n",
              "        [180, 200, 230],\n",
              "        [180, 200, 230],\n",
              "        [180, 200, 230]]], dtype=uint8)"
            ],
            "text/html": [
              "<style>\n",
              "      .ndarray_repr .ndarray_raw_data {\n",
              "        display: none;\n",
              "      }\n",
              "      .ndarray_repr.show_array .ndarray_raw_data {\n",
              "        display: block;\n",
              "      }\n",
              "      .ndarray_repr.show_array .ndarray_image_preview {\n",
              "        display: none;\n",
              "      }\n",
              "      </style>\n",
              "      <div id=\"id-48569b73-2614-4730-ba6c-b236fc9bd5f1\" class=\"ndarray_repr\"><pre>ndarray (256, 256, 3) <button style=\"padding: 0 2px;\">show data</button></pre><img src=\"data:image/png;base64,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\" class=\"ndarray_image_preview\" /><pre class=\"ndarray_raw_data\">array([[[180, 200, 230],\n",
              "        [180, 200, 230],\n",
              "        [180, 200, 230],\n",
              "        ...,\n",
              "        [180, 200, 230],\n",
              "        [180, 200, 230],\n",
              "        [180, 200, 230]],\n",
              "\n",
              "       [[180, 200, 230],\n",
              "        [204, 230, 255],\n",
              "        [204, 230, 255],\n",
              "        ...,\n",
              "        [204, 230, 255],\n",
              "        [204, 230, 255],\n",
              "        [180, 200, 230]],\n",
              "\n",
              "       [[180, 200, 230],\n",
              "        [235, 245, 249],\n",
              "        [204, 230, 255],\n",
              "        ...,\n",
              "        [204, 230, 255],\n",
              "        [204, 230, 255],\n",
              "        [180, 200, 230]],\n",
              "\n",
              "       ...,\n",
              "\n",
              "       [[180, 200, 230],\n",
              "        [235, 245, 249],\n",
              "        [235, 245, 249],\n",
              "        ...,\n",
              "        [204, 230, 255],\n",
              "        [235, 245, 249],\n",
              "        [180, 200, 230]],\n",
              "\n",
              "       [[180, 200, 230],\n",
              "        [235, 245, 249],\n",
              "        [235, 245, 249],\n",
              "        ...,\n",
              "        [204, 230, 255],\n",
              "        [204, 230, 255],\n",
              "        [180, 200, 230]],\n",
              "\n",
              "       [[180, 200, 230],\n",
              "        [180, 200, 230],\n",
              "        [180, 200, 230],\n",
              "        ...,\n",
              "        [180, 200, 230],\n",
              "        [180, 200, 230],\n",
              "        [180, 200, 230]]], dtype=uint8)</pre></div><script>\n",
              "      (() => {\n",
              "      const titles = ['show data', 'hide data'];\n",
              "      let index = 0\n",
              "      document.querySelector('#id-48569b73-2614-4730-ba6c-b236fc9bd5f1 button').onclick = (e) => {\n",
              "        document.querySelector('#id-48569b73-2614-4730-ba6c-b236fc9bd5f1').classList.toggle('show_array');\n",
              "        index = (++index) % 2;\n",
              "        document.querySelector('#id-48569b73-2614-4730-ba6c-b236fc9bd5f1 button').textContent = titles[index];\n",
              "        e.preventDefault();\n",
              "        e.stopPropagation();\n",
              "      }\n",
              "      })();\n",
              "    </script>"
            ]
          },
          "metadata": {},
          "execution_count": 25
        }
      ]
    },
    {
      "cell_type": "markdown",
      "source": [
        "Regardons ce que cela change sur la fonction de transition:"
      ],
      "metadata": {
        "id": "WKhcRQID305z"
      }
    },
    {
      "cell_type": "code",
      "source": [
        "# State: initial\n",
        "# Action: right\n",
        "print_transition_function(env, state=0, action=2)"
      ],
      "metadata": {
        "id": "oI32zkVy36eD",
        "colab": {
          "base_uri": "https://localhost:8080/"
        },
        "outputId": "6ddefb47-8e13-4006-fa43-458d4f8ae5df"
      },
      "execution_count": null,
      "outputs": [
        {
          "output_type": "stream",
          "name": "stdout",
          "text": [
            "From state 0 when playing action 2:\n",
            "- Reaching state 4 along with reward 0.0 with probability 0.3333333333333333\n",
            "- Reaching state 1 along with reward 0.0 with probability 0.3333333333333333\n",
            "- Reaching state 0 along with reward 0.0 with probability 0.3333333333333333\n"
          ]
        }
      ]
    },
    {
      "cell_type": "code",
      "source": [
        "# State: cell 4 (next ot a hole)\n",
        "# Action: right\n",
        "print_transition_function(env, state=4, action=2)"
      ],
      "metadata": {
        "id": "xogdKNsG36eE",
        "colab": {
          "base_uri": "https://localhost:8080/"
        },
        "outputId": "f098533a-b848-4b74-a711-255adf289255"
      },
      "execution_count": null,
      "outputs": [
        {
          "output_type": "stream",
          "name": "stdout",
          "text": [
            "From state 4 when playing action 2:\n",
            "- Reaching state 8 along with reward 0.0 with probability 0.3333333333333333\n",
            "- Reaching state 5 along with reward 0.0 with probability 0.3333333333333333\n",
            "- Reaching state 0 along with reward 0.0 with probability 0.3333333333333333\n"
          ]
        }
      ]
    },
    {
      "cell_type": "code",
      "source": [
        "# State: cell 14 (next to the goal)\n",
        "# Action: right\n",
        "print_transition_function(env, state=14, action=2)"
      ],
      "metadata": {
        "id": "WQwMvfTj36eF",
        "colab": {
          "base_uri": "https://localhost:8080/"
        },
        "outputId": "0a826c41-9e11-41b0-dab6-8bc2a4c2e03d"
      },
      "execution_count": null,
      "outputs": [
        {
          "output_type": "stream",
          "name": "stdout",
          "text": [
            "From state 14 when playing action 2:\n",
            "- Reaching state 14 along with reward 0.0 with probability 0.3333333333333333\n",
            "- Reaching state 15 along with reward 1.0 with probability 0.3333333333333333\n",
            "- Reaching state 10 along with reward 0.0 with probability 0.3333333333333333\n"
          ]
        }
      ]
    },
    {
      "cell_type": "markdown",
      "source": [
        "Essayez maintenant de trouver une stratégie sûre pour la carte suivante:"
      ],
      "metadata": {
        "id": "3ConoxBZ4HMw"
      }
    },
    {
      "cell_type": "code",
      "source": [
        "import matplotlib.pyplot as plt\n",
        "env = gym.make('FrozenLake-v1', desc=[\"SFFF\", \"FFFF\", \"FFFF\", \"HFFG\"], is_slippery=True, render_mode=\"rgb_array\")\n",
        "observation, info = env.reset()\n",
        "array = env.render()\n",
        "plt.imshow(array)"
      ],
      "metadata": {
        "id": "AC8vN2VL4br_",
        "colab": {
          "base_uri": "https://localhost:8080/",
          "height": 452
        },
        "outputId": "9da3d786-3afb-4bec-a330-82b396c0f05b"
      },
      "execution_count": null,
      "outputs": [
        {
          "output_type": "execute_result",
          "data": {
            "text/plain": [
              "<matplotlib.image.AxesImage at 0x7cd02f0ec490>"
            ]
          },
          "metadata": {},
          "execution_count": 30
        },
        {
          "output_type": "display_data",
          "data": {
            "text/plain": [
              "<Figure size 640x480 with 1 Axes>"
            ],
            "image/png": "[encoded data removed]"
          },
          "metadata": {}
        }
      ]
    },
    {
      "cell_type": "code",
      "source": [
        "print_transition_function(env, state=8, action=1)"
      ],
      "metadata": {
        "id": "SWtSJSbH5kmd"
      },
      "execution_count": null,
      "outputs": []
    },
    {
      "cell_type": "markdown",
      "source": [
        "Votre stratégie sera testée plusieurs fois pour s'assurer de sa fiabilité."
      ],
      "metadata": {
        "id": "SioJQuoT4v2j"
      }
    },
    {
      "cell_type": "code",
      "source": [
        "for i in range(5):\n",
        "  observation, info = env.reset()\n",
        "  done, truncated = False, False\n",
        "  reward = 0\n",
        "  while not (done or truncated):\n",
        "      action = <your code>\n",
        "      observation, reward, done, truncated, info = env.step(action)\n",
        "\n",
        "  assert reward == 1"
      ],
      "metadata": {
        "id": "y60aCxFw33km"
      },
      "execution_count": null,
      "outputs": []
    },
    {
      "cell_type": "markdown",
      "source": [
        "# Partie 2: Dynamic Programming"
      ],
      "metadata": {
        "id": "KhL_pxHx7i07"
      }
    },
    {
      "cell_type": "code",
      "source": [
        "env = gym.make('FrozenLake-v1', desc=[\"SFF\", \"FFF\", \"FFG\"], is_slippery=False, render_mode=\"rgb_array\")\n",
        "observation, info = env.reset()\n",
        "env.render()"
      ],
      "metadata": {
        "id": "Vunw7_V2IEdt"
      },
      "execution_count": null,
      "outputs": []
    },
    {
      "cell_type": "markdown",
      "source": [
        "## A) Policy Iteration"
      ],
      "metadata": {
        "id": "CRAKpUFKQBwr"
      }
    },
    {
      "cell_type": "markdown",
      "source": [
        "Commençons par implémenter la méthode de Policy Iteration:"
      ],
      "metadata": {
        "id": "_zgrdPcHP9jO"
      }
    },
    {
      "cell_type": "code",
      "source": [
        "def policy_iteration(env, gamma=0.99):\n",
        "    values = np.zeros(env.observation_space.n)\n",
        "    policy = np.zeros(env.observation_space.n, dtype=np.int16)\n",
        "\n",
        "    values_list = [values.copy()]\n",
        "    policy_list = [policy.copy()]\n",
        "\n",
        "    converged = False\n",
        "    actions = list(range(env.action_space.n))\n",
        "    states = list(env.unwrapped.P.keys())\n",
        "    rewards = {}\n",
        "    terminal_states = []\n",
        "    for s in env.unwrapped.P:\n",
        "        for a in env.unwrapped.P[s]:\n",
        "            for s_prime in env.unwrapped.P[s][a]:\n",
        "                if s_prime[1] not in rewards:\n",
        "                  rewards[s_prime[1]] = s_prime[2]\n",
        "                if s_prime[3] and s_prime[1] not in terminal_states:\n",
        "                    terminal_states.append(s_prime[1])\n",
        "\n",
        "    while not converged:\n",
        "        # Step 1 : Policy Evaluation\n",
        "        for s in states:\n",
        "            if s in terminal_states:\n",
        "                values[s] = rewards[s]\n",
        "            else :\n",
        "                current_policy_action = policy[s]\n",
        "                sum = 0\n",
        "                for s_prime in env.unwrapped.P[s][current_policy_action]:\n",
        "                    sum = sum +  s_prime[0]*values[s_prime[1]]\n",
        "                values[s] = rewards[s] + gamma*sum\n",
        "\n",
        "\n",
        "        # Step 2 : Policy Improvement\n",
        "        for s in states:\n",
        "            _values = []\n",
        "            for a in actions:\n",
        "                sum = 0\n",
        "                for s_prime in env.unwrapped.P[s][a]:\n",
        "                    sum = sum + s_prime[0]*values[s_prime[1]]\n",
        "                _values.append(rewards[s] + gamma*sum)\n",
        "            policy[s] = np.argmax(_values)\n",
        "\n",
        "        values_list.append(values.copy())\n",
        "        policy_list.append(policy.copy())\n",
        "\n",
        "        # Check the convergence\n",
        "        if np.array_equal(values_list[-1],values_list[-2]) :\n",
        "            converged = True\n",
        "\n",
        "    return [values_list, policy_list]"
      ],
      "metadata": {
        "id": "XaxSnAsS78Jn"
      },
      "execution_count": null,
      "outputs": []
    },
    {
      "cell_type": "code",
      "source": [
        "values_list, policy_list = policy_iteration(env)\n",
        "for _values, _policy in zip(values_list, policy_list):\n",
        "    print(\"Values:\")\n",
        "    print_values(_values, grid_width=3)\n",
        "    print(\"Policy:\")\n",
        "    print_policy(_policy, grid_width=3)"
      ],
      "metadata": {
        "id": "KneeXKYHGNIi"
      },
      "execution_count": null,
      "outputs": []
    },
    {
      "cell_type": "markdown",
      "source": [
        "## B) Value Iteration"
      ],
      "metadata": {
        "id": "WxkPFg6RQH-T"
      }
    },
    {
      "cell_type": "markdown",
      "source": [
        "A votre tour pour la value iteration !"
      ],
      "metadata": {
        "id": "LZQbjyWxQMVE"
      }
    },
    {
      "cell_type": "code",
      "source": [
        "def value_iteration(env, gamma=0.99):\n",
        "    policy = np.zeros(env.observation_space.n, dtype=np.int16)\n",
        "    values = np.zeros(env.observation_space.n)\n",
        "    values_list = [values.copy()]\n",
        "\n",
        "    converged = False\n",
        "    actions = list(range(env.action_space.n))\n",
        "    states = list(env.unwrapped.P.keys())\n",
        "    rewards = {}\n",
        "    terminal_states = []\n",
        "    for s in env.unwrapped.P:\n",
        "        for a in env.unwrapped.P[s]:\n",
        "            for s_prime in env.unwrapped.P[s][a]:\n",
        "                if s_prime[1] not in rewards:\n",
        "                  rewards[s_prime[1]] = s_prime[2]\n",
        "                if s_prime[3] and s_prime[1] not in terminal_states:\n",
        "                    terminal_states.append(s_prime[1])\n",
        "\n",
        "    while not converged:\n",
        "        # Step 1 : Greedy Policy Evaluation\n",
        "        <your code>\n",
        "        values_list.append(values.copy())\n",
        "\n",
        "        # Check the convergence\n",
        "        if np.array_equal(values_list[-1],values_list[-2]) :\n",
        "            converged = True\n",
        "\n",
        "    # Final step: construct the policy\n",
        "    <your code>\n",
        "\n",
        "    return [values_list, policy]"
      ],
      "metadata": {
        "id": "cmFrmezDQJVB"
      },
      "execution_count": null,
      "outputs": []
    },
    {
      "cell_type": "code",
      "source": [
        "values_list, policy = value_iteration(env)\n",
        "for _values in values_list:\n",
        "    print(\"Values:\")\n",
        "    print_values(_values, grid_width=3)\n",
        "\n",
        "print(\"Policy:\")\n",
        "print_policy(policy, grid_width=3)"
      ],
      "metadata": {
        "id": "rIHIiOr3Q3xO"
      },
      "execution_count": null,
      "outputs": []
    },
    {
      "cell_type": "markdown",
      "source": [
        "# Partie 3: Q-Learning"
      ],
      "metadata": {
        "id": "KUK2H8o_Rv5s"
      }
    },
    {
      "cell_type": "markdown",
      "source": [
        "## A) No Holes"
      ],
      "metadata": {
        "id": "RHt-aUf0-Vjq"
      }
    },
    {
      "cell_type": "code",
      "source": [
        "env = gym.make('FrozenLake-v1', desc=[\"SFF\", \"FFF\", \"FFG\"], is_slippery=False, render_mode=\"rgb_array\")\n",
        "observation, info = env.reset()\n",
        "env.render()"
      ],
      "metadata": {
        "id": "YBprdZAxfD_Z"
      },
      "execution_count": null,
      "outputs": []
    },
    {
      "cell_type": "code",
      "source": [
        "def sarsa(env, num_episodes=2000, epsilon=0.1, gamma=0.99, alpha=0.8, reward_on_hole=0, grid_width=3):\n",
        "    q_table = np.zeros((env.observation_space.n, env.action_space.n), dtype=np.float32)\n",
        "    for i in range(num_episodes):\n",
        "        state, info = env.reset()\n",
        "        done, truncated = False, False\n",
        "        _return = 0\n",
        "        # Sample the first action\n",
        "        if np.random.rand(1) < epsilon:\n",
        "            action = env.action_space.sample()\n",
        "        else:\n",
        "            action = np.argmax(q_table[state, :])\n",
        "        while not (done or truncated):\n",
        "            # Play the action\n",
        "            next_state, reward, done, truncated, info = env.step(action)\n",
        "            _return += reward\n",
        "\n",
        "            # Sample the next action\n",
        "            if np.random.rand(1) < epsilon:\n",
        "                next_action = env.action_space.sample()\n",
        "            else:\n",
        "                next_action = np.argmax(q_table[next_state, :])\n",
        "\n",
        "            # Update Q-Table with new knowledge\n",
        "            if not (done or truncated):\n",
        "                td_error = <your code>\n",
        "                q_table[state, action] = <your code>\n",
        "                state = next_state\n",
        "                action = next_action\n",
        "            else:\n",
        "                if reward == 0 and not truncated:  # Fell in a hole\n",
        "                    reward = reward_on_hole\n",
        "                td_error = <your code>\n",
        "                q_table[state, action] = <your code>\n",
        "\n",
        "        print(f\"Obtained return {_return} at episode {i}\")\n",
        "\n",
        "    print_q_values(q_table, grid_width=grid_width)"
      ],
      "metadata": {
        "id": "13Et6OFVRyGI"
      },
      "execution_count": null,
      "outputs": []
    },
    {
      "cell_type": "code",
      "source": [
        "sarsa(env, num_episodes=2000, epsilon=0.1, grid_width=3)"
      ],
      "metadata": {
        "id": "943h4IMSb-85"
      },
      "execution_count": null,
      "outputs": []
    },
    {
      "cell_type": "code",
      "source": [
        "def q_learning(env, num_episodes=2000, epsilon=0.1, gamma=0.99, alpha=0.8, reward_on_hole=0, grid_width=3):\n",
        "    q_table = np.zeros((env.observation_space.n, env.action_space.n), dtype=np.float32)\n",
        "    for i in range(num_episodes):\n",
        "        state, info = env.reset()\n",
        "        done, truncated = False, False\n",
        "        _return = 0\n",
        "        # Sample the first action\n",
        "        if np.random.rand(1) < epsilon:\n",
        "            action = env.action_space.sample()\n",
        "        else:\n",
        "            action = np.argmax(q_table[state, :])\n",
        "        while not (done or truncated):\n",
        "            # Play the action\n",
        "            next_state, reward, done, truncated, info = env.step(action)\n",
        "            _return += reward\n",
        "\n",
        "            # Sample the next action\n",
        "            if np.random.rand(1) < epsilon:\n",
        "                next_action = env.action_space.sample()\n",
        "            else:\n",
        "                next_action = np.argmax(q_table[next_state, :])\n",
        "\n",
        "            # Update Q-Table with new knowledge\n",
        "            if not (done or truncated):\n",
        "                td_error = <your code>\n",
        "                q_table[state, action] = <your code>\n",
        "                state = next_state\n",
        "                action = next_action\n",
        "            else:\n",
        "                if reward == 0 and not truncated:  # Fell in a hole\n",
        "                    reward = reward_on_hole\n",
        "                td_error = <your code>\n",
        "                q_table[state, action] = <your code>\n",
        "\n",
        "        print(f\"Obtained return {_return} at episode {i}\")\n",
        "\n",
        "    print_q_values(q_table, grid_width=grid_width)"
      ],
      "metadata": {
        "id": "vEDz9cR5d2mO"
      },
      "execution_count": null,
      "outputs": []
    },
    {
      "cell_type": "code",
      "source": [
        "q_learning(env, num_episodes=2000, epsilon=0.1, grid_width=3)"
      ],
      "metadata": {
        "id": "GyPbIPZkd2mP"
      },
      "execution_count": null,
      "outputs": []
    },
    {
      "cell_type": "markdown",
      "source": [
        "## B) Holes"
      ],
      "metadata": {
        "id": "8tLxoL5f0Xqz"
      }
    },
    {
      "cell_type": "markdown",
      "source": [
        "Essayons maintenant de reproduire l'exemple \"The Cliff\" du cours."
      ],
      "metadata": {
        "id": "j2gaAaYa93_2"
      }
    },
    {
      "cell_type": "code",
      "source": [
        "env = gym.make('FrozenLake-v1', desc=[\"FFFFF\", \"FFFFF\", \"SHHHG\"], is_slippery=False, render_mode=\"rgb_array\")\n",
        "observation, info = env.reset()\n",
        "env.render()"
      ],
      "metadata": {
        "id": "FSjwi_rT0e2-"
      },
      "execution_count": null,
      "outputs": []
    },
    {
      "cell_type": "code",
      "source": [
        "sarsa(env, num_episodes=20000, epsilon=0.33, reward_on_hole=-1, grid_width=5)"
      ],
      "metadata": {
        "id": "vVK7VO4h0tAw"
      },
      "execution_count": null,
      "outputs": []
    },
    {
      "cell_type": "code",
      "source": [
        "q_learning(env, num_episodes=20000, epsilon=0.33, reward_on_hole=-1, grid_width=5)"
      ],
      "metadata": {
        "id": "iYZk1oFT0skd"
      },
      "execution_count": null,
      "outputs": []
    },
    {
      "cell_type": "markdown",
      "source": [
        "# Partie 4: DQN"
      ],
      "metadata": {
        "id": "A80Ac3AoR0vr"
      }
    },
    {
      "cell_type": "markdown",
      "source": [
        "Il est temps de passer à un environnnement plus compliqué: Pong."
      ],
      "metadata": {
        "id": "r9FoP3reMAXp"
      }
    },
    {
      "cell_type": "code",
      "source": [
        "pong = gym.make(\"PongNoFrameskip-v4\", render_mode=\"rgb_array\")\n",
        "print(\"Observation space:\", pong.observation_space)\n",
        "print(\"Action space:\", pong.action_space)\n",
        "print(f\"Actions' meaning: {pong.unwrapped.get_action_meanings()}\")\n",
        "s,_ = pong.reset()\n",
        "plt.imshow(pong.render(),vmin=0,vmax=255);"
      ],
      "metadata": {
        "id": "2_LrPp4IA1T6",
        "colab": {
          "base_uri": "https://localhost:8080/",
          "height": 486
        },
        "outputId": "5a6f821e-df0a-4bf3-fee4-c505ef01886f"
      },
      "execution_count": null,
      "outputs": [
        {
          "output_type": "stream",
          "name": "stdout",
          "text": [
            "Observation space: Box(0, 255, (210, 160, 3), uint8)\n",
            "Action space: Discrete(6)\n",
            "Actions' meaning: ['NOOP', 'FIRE', 'RIGHT', 'LEFT', 'RIGHTFIRE', 'LEFTFIRE']\n"
          ]
        },
        {
          "output_type": "display_data",
          "data": {
            "text/plain": [
              "<Figure size 640x480 with 1 Axes>"
            ],
            "image/png": "[encoded data removed]"
          },
          "metadata": {}
        }
      ]
    },
    {
      "cell_type": "markdown",
      "source": [
        "Nous allons utiliser des wrappers déjà fournis par Gymnasium pour:\n",
        "- processer l'image (réduire sa taille, tout mettre en gris...)\n",
        "- stacker les N dernières images (permettant de tracker le mouvement des objets)"
      ],
      "metadata": {
        "id": "lb07NvacMF4O"
      }
    },
    {
      "cell_type": "code",
      "source": [
        "from gymnasium.wrappers import AtariPreprocessing, FrameStackObservation"
      ],
      "metadata": {
        "id": "0eEcTaEzDKF4"
      },
      "execution_count": null,
      "outputs": []
    },
    {
      "cell_type": "code",
      "source": [
        "pong = AtariPreprocessing(pong)\n",
        "pong = FrameStackObservation(pong, 4)"
      ],
      "metadata": {
        "id": "WK8p_dE9DLja"
      },
      "execution_count": null,
      "outputs": []
    },
    {
      "cell_type": "code",
      "source": [
        "# Trying a random agent in Pong\n",
        "import time\n",
        "import numpy as np\n",
        "%matplotlib inline\n",
        "import matplotlib.pyplot as plt\n",
        "\n",
        "_,_ = pong.reset()\n",
        "for i in range(10):\n",
        "    a = np.random.randint(2)\n",
        "    x, r, _, _, _ = pong.step(a)\n",
        "print(\"shape: \", x.shape, \", min = \", x.min(), \", max = \", x.max(), \", dtype = \", x.dtype, sep='')\n",
        "plt.imshow(x[0], cmap='gray')"
      ],
      "metadata": {
        "id": "jvZDu9puDQNd",
        "colab": {
          "base_uri": "https://localhost:8080/",
          "height": 468
        },
        "outputId": "a12afbec-729c-4c98-9a08-8788fb72229a"
      },
      "execution_count": null,
      "outputs": [
        {
          "output_type": "stream",
          "name": "stdout",
          "text": [
            "shape: (4, 84, 84), min = 52, max = 236, dtype = uint8\n"
          ]
        },
        {
          "output_type": "execute_result",
          "data": {
            "text/plain": [
              "<matplotlib.image.AxesImage at 0x7ef75820dba0>"
            ]
          },
          "metadata": {},
          "execution_count": 6
        },
        {
          "output_type": "display_data",
          "data": {
            "text/plain": [
              "<Figure size 640x480 with 1 Axes>"
            ],
            "image/png": "[encoded data removed]"
          },
          "metadata": {}
        }
      ]
    },
    {
      "cell_type": "markdown",
      "source": [
        "## A) Replay Buffer"
      ],
      "metadata": {
        "id": "ycHzHli5Mc4P"
      }
    },
    {
      "cell_type": "markdown",
      "source": [
        "Implémentons ensuite notre replay buffer permettant de sampler aléatoirement des transitions collectées."
      ],
      "metadata": {
        "id": "gZ0xccD_Mfoq"
      }
    },
    {
      "cell_type": "code",
      "source": [
        "import random\n",
        "import torch\n",
        "import numpy as np\n",
        "\n",
        "class ReplayBuffer:\n",
        "    def __init__(self, capacity, device):\n",
        "        self.capacity = capacity # capacity of the buffer\n",
        "        self.data = []\n",
        "        self.index = 0 # index of the next cell to be filled\n",
        "        self.device = device\n",
        "    def append(self, s, a, r, s_, d):\n",
        "        if len(self.data) < self.capacity:\n",
        "            self.data.append(None)\n",
        "        self.data[self.index] = (s, a, r, s_, d)\n",
        "        self.index = (self.index + 1) % self.capacity\n",
        "    def sample(self, batch_size):\n",
        "        batch = random.sample(self.data, batch_size)\n",
        "        return list(map(lambda x:torch.Tensor(np.array(x)).to(self.device), list(zip(*batch))))\n",
        "    def __len__(self):\n",
        "        return len(self.data)"
      ],
      "metadata": {
        "id": "_ZsEfOk4AODK"
      },
      "execution_count": null,
      "outputs": []
    },
    {
      "cell_type": "markdown",
      "source": [
        "## DQN"
      ],
      "metadata": {
        "id": "5n3x3PfgMpMG"
      }
    },
    {
      "cell_type": "markdown",
      "source": [
        "Implémentons maintenant un DQN avec trois couches de convolutions:"
      ],
      "metadata": {
        "id": "w3txd0PlMq_J"
      }
    },
    {
      "cell_type": "code",
      "source": [
        "import torch.nn as nn\n",
        "import torch.nn.functional as F\n",
        "\n",
        "class AtariCNN(nn.Module):\n",
        "    def __init__(self, in_channels=4, n_actions=6):\n",
        "        super(AtariCNN, self).__init__()\n",
        "        self.conv1 = nn.Conv2d(in_channels, 32, kernel_size=8, stride=4)\n",
        "        self.conv2 = nn.Conv2d(32, 64, kernel_size=4, stride=2)\n",
        "        self.conv3 = nn.Conv2d(64, 64, kernel_size=3, stride=1)\n",
        "        self.fc4 = nn.Linear(7 * 7 * 64, 512)\n",
        "        self.head = nn.Linear(512, n_actions)\n",
        "\n",
        "    def forward(self, x):\n",
        "        x = F.relu(self.conv1(x))\n",
        "        x = F.relu(self.conv2(x))\n",
        "        x = F.relu(self.conv3(x))\n",
        "        x = F.relu(self.fc4(x.view(x.size(0), -1)))\n",
        "        return self.head(x)"
      ],
      "metadata": {
        "id": "oMGBkPxMFwEF"
      },
      "execution_count": null,
      "outputs": []
    },
    {
      "cell_type": "markdown",
      "source": [
        "A votre tour d'implémenter une fonction calculant les Q-values pour un state et jouant greedy à partir de ces Q-values (i.e. retournant l'index de la plus haute Q-value):"
      ],
      "metadata": {
        "id": "1RLgzb7dM4Nh"
      }
    },
    {
      "cell_type": "code",
      "source": [
        "def greedy_action(network, state):\n",
        "    device = \"cuda\" if next(network.parameters()).is_cuda else \"cpu\"\n",
        "    with torch.no_grad():\n",
        "        return <your code>"
      ],
      "metadata": {
        "id": "RTxrUyqnEehb"
      },
      "execution_count": null,
      "outputs": []
    },
    {
      "cell_type": "markdown",
      "source": [
        "Testons votre fonction:"
      ],
      "metadata": {
        "id": "lvzF04ylNLOM"
      }
    },
    {
      "cell_type": "code",
      "source": [
        "state,_ = pong.reset()\n",
        "pong_dqn = AtariCNN()\n",
        "greedy_action(pong_dqn, state)"
      ],
      "metadata": {
        "id": "Da2QTaXdNPRR"
      },
      "execution_count": null,
      "outputs": []
    },
    {
      "cell_type": "markdown",
      "source": [
        "## C) Entraînement"
      ],
      "metadata": {
        "id": "yVbF5-AxNh2Z"
      }
    },
    {
      "cell_type": "markdown",
      "source": [
        "Il est temps d'implémenter l'entraînement de notre DQN.\n",
        "Nous allons utiliser:\n",
        "- une exploration epsilon-greedy avec un epsilon qui décroît\n",
        "- un target Q-network pour stabiliser les td errors\n",
        "\n",
        "C'est à vous d'implémenter la méthode `gradient_step` qui met à jour le DQN :)"
      ],
      "metadata": {
        "id": "xtwsDhtdNlvw"
      }
    },
    {
      "cell_type": "code",
      "source": [
        "from copy import deepcopy\n",
        "\n",
        "class DQNAgent:\n",
        "    def __init__(self, config, model):\n",
        "        # Set all parameters\n",
        "        device = \"cuda\" if next(model.parameters()).is_cuda else \"cpu\"\n",
        "        self.nb_actions = config['nb_actions']\n",
        "        self.gamma = config['gamma'] if 'gamma' in config.keys() else 0.95\n",
        "\n",
        "        ## Train every N steps\n",
        "        self.train_freq = config['train_freq'] if 'train_freq' in config.keys() else 1\n",
        "        self.train_warmup = config['train_warmup'] if 'train_warmup' in config.keys() else 1\n",
        "\n",
        "        ## Replay Buffer\n",
        "        ### Number of transitions to sample when training\n",
        "        self.batch_size = config['batch_size'] if 'batch_size' in config.keys() else 100\n",
        "        buffer_size = config['buffer_size'] if 'buffer_size' in config.keys() else int(1e5)\n",
        "        self.memory = ReplayBuffer(buffer_size,device)\n",
        "\n",
        "        ## Epsilon-greedy strategy\n",
        "        self.epsilon_max = config['epsilon_max'] if 'epsilon_max' in config.keys() else 1.\n",
        "        self.epsilon_min = config['epsilon_min'] if 'epsilon_min' in config.keys() else 0.01\n",
        "        self.epsilon_stop = config['epsilon_decay_period'] if 'epsilon_decay_period' in config.keys() else 1000\n",
        "        self.epsilon_delay = config['epsilon_delay_decay'] if 'epsilon_delay_decay' in config.keys() else 20\n",
        "        self.epsilon_step = (self.epsilon_max-self.epsilon_min)/self.epsilon_stop\n",
        "\n",
        "        ## DQN and target DQN\n",
        "        self.model = model\n",
        "        self.target_model = deepcopy(self.model).to(device)\n",
        "\n",
        "        ## Loss / learning rate / optimizer\n",
        "        self.criterion = config['criterion'] if 'criterion' in config.keys() else torch.nn.MSELoss()\n",
        "        lr = config['learning_rate'] if 'learning_rate' in config.keys() else 0.001\n",
        "        self.optimizer = config['optimizer'] if 'optimizer' in config.keys() else torch.optim.Adam(self.model.parameters(), lr=lr)\n",
        "\n",
        "        ## Number of gradient steps to perform on each batch sampled from the replay buffer\n",
        "        self.nb_gradient_steps = config['gradient_steps'] if 'gradient_steps' in config.keys() else 1\n",
        "\n",
        "        ## Parameter to update the target DQN with a moving average (Polyak average)\n",
        "        self.update_target_tau = config['update_target_tau'] if 'update_target_tau' in config.keys() else 0.005\n",
        "\n",
        "    def gradient_step(self):\n",
        "        if len(self.memory) > self.batch_size:\n",
        "            self.optimizer.zero_grad()\n",
        "            S, A, R, next_S, D = self.memory.sample(self.batch_size)\n",
        "            loss = <your code>\n",
        "            loss.backward()\n",
        "            self.optimizer.step()\n",
        "\n",
        "    def train(self, env, max_episode):\n",
        "        episode_return = []\n",
        "        episode = 0\n",
        "        episode_cum_reward = 0\n",
        "        state, _ = env.reset()\n",
        "        epsilon = self.epsilon_max\n",
        "        step = 0\n",
        "        while episode < max_episode:\n",
        "            # update epsilon\n",
        "            if step > self.epsilon_delay:\n",
        "                epsilon = max(self.epsilon_min, epsilon-self.epsilon_step)\n",
        "            # select epsilon-greedy action\n",
        "            if np.random.rand() < epsilon:\n",
        "                action = env.action_space.sample()\n",
        "            else:\n",
        "                action = greedy_action(self.model, state)\n",
        "\n",
        "            # step\n",
        "            next_state, reward, done, trunc, _ = env.step(action)\n",
        "            # record transition in replay buffer\n",
        "            self.memory.append(state, action, reward, next_state, done)\n",
        "            episode_cum_reward += reward\n",
        "\n",
        "            # train\n",
        "            if step > self.train_warmup and step % self.train_freq == 0:\n",
        "                for _ in range(self.nb_gradient_steps):\n",
        "                    self.gradient_step()\n",
        "\n",
        "                # update target network with Polyak average\n",
        "                target_state_dict = self.target_model.state_dict()\n",
        "                model_state_dict = self.model.state_dict()\n",
        "                tau = self.update_target_tau\n",
        "                for key in model_state_dict:\n",
        "                    target_state_dict[key] = tau*model_state_dict[key] + (1-tau)*target_state_dict[key]\n",
        "                self.target_model.load_state_dict(target_state_dict)\n",
        "\n",
        "            # next transition\n",
        "            step += 1\n",
        "            if done or trunc:\n",
        "                episode += 1\n",
        "                print(\"Episode \", '{:3d}'.format(episode),\n",
        "                      \", steps \", '{:3d}'.format(step),\n",
        "                      \", epsilon \", '{:6.2f}'.format(epsilon),\n",
        "                      \", batch size \", '{:5d}'.format(len(self.memory)),\n",
        "                      \", episode return \", '{:4.1f}'.format(episode_cum_reward),\n",
        "                      sep='')\n",
        "                state, _ = env.reset()\n",
        "                episode_return.append(episode_cum_reward)\n",
        "                episode_cum_reward = 0\n",
        "            else:\n",
        "                state = next_state\n",
        "        return episode_return"
      ],
      "metadata": {
        "id": "ksmIGcNfR2S2"
      },
      "execution_count": null,
      "outputs": []
    },
    {
      "cell_type": "markdown",
      "source": [
        "C'est parti pour lancer l'entraînement de notre DQN !"
      ],
      "metadata": {
        "id": "8d4SLQftvdCi"
      }
    },
    {
      "cell_type": "code",
      "source": [
        "# Declare network\n",
        "import torch.nn as nn\n",
        "\n",
        "device = torch.device(\"cuda\" if torch.cuda.is_available() else \"cpu\")\n",
        "\n",
        "state_dim = pong.observation_space.shape[0]\n",
        "n_action = pong.action_space.n\n",
        "nb_neurons=24\n",
        "\n",
        "DQN = AtariCNN()\n",
        "\n",
        "# DQN config\n",
        "config = {'nb_actions': pong.action_space.n,\n",
        "          'train_warmup': 10000,\n",
        "          'train_freq': 10,\n",
        "          'gradient_steps': 1,\n",
        "          'learning_rate': 0.001,\n",
        "          'gamma': 0.95,\n",
        "          'buffer_size': 100000,\n",
        "          'epsilon_min': 0.1,\n",
        "          'epsilon_max': 1.,\n",
        "          'epsilon_decay_period': 1000000,\n",
        "          'epsilon_delay_decay': 10000,\n",
        "          'batch_size': 64}\n",
        "\n",
        "# Train agent\n",
        "agent = DQNAgent(config, DQN)\n",
        "scores = agent.train(pong, 200)\n",
        "plt.plot(scores)"
      ],
      "metadata": {
        "id": "wOcRY7rsEoKz"
      },
      "execution_count": null,
      "outputs": []
    }
  ]
}